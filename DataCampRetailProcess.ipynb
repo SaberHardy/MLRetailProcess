{
 "cells": [
  {
   "cell_type": "code",
   "execution_count": 1,
   "id": "68cc5a9f-c18a-4ac9-ba11-1720ae2fe17d",
   "metadata": {},
   "outputs": [],
   "source": [
    "from pyspark.sql import SparkSession"
   ]
  },
  {
   "cell_type": "code",
   "execution_count": 2,
   "id": "43e72fac-f75f-4240-8a7c-3aeea3a5628a",
   "metadata": {},
   "outputs": [
    {
     "data": {
      "text/html": [
       "\n",
       "            <div>\n",
       "                <p><b>SparkSession - in-memory</b></p>\n",
       "                \n",
       "        <div>\n",
       "            <p><b>SparkContext</b></p>\n",
       "\n",
       "            <p><a href=\"http://LAPTOP-1ZXRST2-USER:4040\">Spark UI</a></p>\n",
       "\n",
       "            <dl>\n",
       "              <dt>Version</dt>\n",
       "                <dd><code>v3.5.0</code></dd>\n",
       "              <dt>Master</dt>\n",
       "                <dd><code>local[*]</code></dd>\n",
       "              <dt>AppName</dt>\n",
       "                <dd><code>DataCamp Online Retail</code></dd>\n",
       "            </dl>\n",
       "        </div>\n",
       "        \n",
       "            </div>\n",
       "        "
      ],
      "text/plain": [
       "<pyspark.sql.session.SparkSession at 0x1cd7fef4340>"
      ]
     },
     "execution_count": 2,
     "metadata": {},
     "output_type": "execute_result"
    }
   ],
   "source": [
    "spark = SparkSession.builder.appName(\"DataCamp Online Retail\").getOrCreate()\n",
    "spark"
   ]
  },
  {
   "cell_type": "code",
   "execution_count": 15,
   "id": "6c4346a5-7551-472b-856b-4cbb5f28e661",
   "metadata": {},
   "outputs": [
    {
     "name": "stdout",
     "output_type": "stream",
     "text": [
      "+---------+---------+-----------------------------------+--------+--------------+---------+----------+--------------+\n",
      "|InvoiceNo|StockCode|Description                        |Quantity|InvoiceDate   |UnitPrice|CustomerID|Country       |\n",
      "+---------+---------+-----------------------------------+--------+--------------+---------+----------+--------------+\n",
      "|536365   |85123A   |WHITE HANGING HEART T-LIGHT HOLDER |6       |12/1/2010 8:26|2.55     |17850     |United Kingdom|\n",
      "|536365   |71053    |WHITE METAL LANTERN                |6       |12/1/2010 8:26|3.39     |17850     |United Kingdom|\n",
      "|536365   |84406B   |CREAM CUPID HEARTS COAT HANGER     |8       |12/1/2010 8:26|2.75     |17850     |United Kingdom|\n",
      "|536365   |84029G   |KNITTED UNION FLAG HOT WATER BOTTLE|6       |12/1/2010 8:26|3.39     |17850     |United Kingdom|\n",
      "|536365   |84029E   |RED WOOLLY HOTTIE WHITE HEART.     |6       |12/1/2010 8:26|3.39     |17850     |United Kingdom|\n",
      "+---------+---------+-----------------------------------+--------+--------------+---------+----------+--------------+\n",
      "only showing top 5 rows\n",
      "\n"
     ]
    }
   ],
   "source": [
    "df = spark.read.csv(\"OnlineRetail.csv\", header=True, inferSchema=True, escape=\"\\\"\")\n",
    "df.show(5, 0)"
   ]
  },
  {
   "cell_type": "markdown",
   "id": "6dde4aaf-a3e8-419f-ad6b-a43ed487a48f",
   "metadata": {},
   "source": [
    " ### Exploratory Data Analysis"
   ]
  },
  {
   "cell_type": "code",
   "execution_count": 17,
   "id": "0ba9f622-4a1a-40b2-819a-933b7a36d73d",
   "metadata": {},
   "outputs": [
    {
     "data": {
      "text/plain": [
       "541909"
      ]
     },
     "execution_count": 17,
     "metadata": {},
     "output_type": "execute_result"
    }
   ],
   "source": [
    "### How many rows we have\n",
    "df.count()"
   ]
  },
  {
   "cell_type": "code",
   "execution_count": 18,
   "id": "b29a3bca-f13e-4e30-ad47-ef47e3eb077f",
   "metadata": {},
   "outputs": [
    {
     "data": {
      "text/plain": [
       "4373"
      ]
     },
     "execution_count": 18,
     "metadata": {},
     "output_type": "execute_result"
    }
   ],
   "source": [
    "# How many unique customers do we have?\n",
    "df.select(\"CustomerID\").distinct().count()"
   ]
  },
  {
   "cell_type": "code",
   "execution_count": 19,
   "id": "63fefa9f-68a5-46f8-985e-3dc08e28da83",
   "metadata": {},
   "outputs": [
    {
     "name": "stdout",
     "output_type": "stream",
     "text": [
      "+------------------+-------------+\n",
      "|           Country|country_count|\n",
      "+------------------+-------------+\n",
      "|            Sweden|            8|\n",
      "|         Singapore|            1|\n",
      "|           Germany|           95|\n",
      "|               RSA|            1|\n",
      "|            France|           87|\n",
      "|            Greece|            4|\n",
      "|European Community|            1|\n",
      "|           Belgium|           25|\n",
      "|           Finland|           12|\n",
      "|             Malta|            2|\n",
      "|       Unspecified|            4|\n",
      "|             Italy|           15|\n",
      "|              EIRE|            3|\n",
      "|         Lithuania|            1|\n",
      "|            Norway|           10|\n",
      "|             Spain|           31|\n",
      "|           Denmark|            9|\n",
      "|         Hong Kong|            0|\n",
      "|           Iceland|            1|\n",
      "|            Israel|            4|\n",
      "+------------------+-------------+\n",
      "only showing top 20 rows\n",
      "\n"
     ]
    }
   ],
   "source": [
    "### Find which country purchased more?\n",
    "from pyspark.sql.functions import *\n",
    "from pyspark.sql.types import *\n",
    "count_distinct = df.groupBy(\"Country\").agg(countDistinct(\"CustomerID\").alias(\"country_count\"))\n",
    "count_distinct.show()"
   ]
  },
  {
   "cell_type": "code",
   "execution_count": 20,
   "id": "44199e5b-0531-4060-887f-6e9060d55103",
   "metadata": {},
   "outputs": [
    {
     "name": "stdout",
     "output_type": "stream",
     "text": [
      "+---------------+-------------+\n",
      "|        Country|country_count|\n",
      "+---------------+-------------+\n",
      "| United Kingdom|         3950|\n",
      "|        Germany|           95|\n",
      "|         France|           87|\n",
      "|          Spain|           31|\n",
      "|        Belgium|           25|\n",
      "|    Switzerland|           21|\n",
      "|       Portugal|           19|\n",
      "|          Italy|           15|\n",
      "|        Finland|           12|\n",
      "|        Austria|           11|\n",
      "|         Norway|           10|\n",
      "|        Denmark|            9|\n",
      "|Channel Islands|            9|\n",
      "|      Australia|            9|\n",
      "|    Netherlands|            9|\n",
      "|         Sweden|            8|\n",
      "|         Cyprus|            8|\n",
      "|          Japan|            8|\n",
      "|         Poland|            6|\n",
      "|         Greece|            4|\n",
      "+---------------+-------------+\n",
      "only showing top 20 rows\n",
      "\n"
     ]
    }
   ],
   "source": [
    "# Order the country that has a lot of purchases Descendent order\n",
    "count_distinct.sort(\"country_count\", ascending=[False]).show()"
   ]
  },
  {
   "cell_type": "code",
   "execution_count": 21,
   "id": "809c8b57-3d00-4a5d-9ad9-1790749104d1",
   "metadata": {},
   "outputs": [
    {
     "name": "stdout",
     "output_type": "stream",
     "text": [
      "+---------------+-------------+\n",
      "|        Country|country_count|\n",
      "+---------------+-------------+\n",
      "| United Kingdom|         3950|\n",
      "|        Germany|           95|\n",
      "|         France|           87|\n",
      "|          Spain|           31|\n",
      "|        Belgium|           25|\n",
      "|    Switzerland|           21|\n",
      "|       Portugal|           19|\n",
      "|          Italy|           15|\n",
      "|        Finland|           12|\n",
      "|        Austria|           11|\n",
      "|         Norway|           10|\n",
      "|        Denmark|            9|\n",
      "|Channel Islands|            9|\n",
      "|      Australia|            9|\n",
      "|    Netherlands|            9|\n",
      "|         Sweden|            8|\n",
      "|         Cyprus|            8|\n",
      "|          Japan|            8|\n",
      "|         Poland|            6|\n",
      "|         Greece|            4|\n",
      "+---------------+-------------+\n",
      "only showing top 20 rows\n",
      "\n"
     ]
    }
   ],
   "source": [
    "df.groupBy(\"Country\").agg(countDistinct(\"CustomerID\").alias(\"country_count\")).orderBy(desc('country_count')).show()"
   ]
  },
  {
   "cell_type": "code",
   "execution_count": 22,
   "id": "41d4fe12-87f5-481e-8af9-5378de1250cf",
   "metadata": {},
   "outputs": [
    {
     "name": "stdout",
     "output_type": "stream",
     "text": [
      "+-------------------+\n",
      "|          max(date)|\n",
      "+-------------------+\n",
      "|2011-12-09 12:50:00|\n",
      "+-------------------+\n",
      "\n"
     ]
    }
   ],
   "source": [
    "## Find when the most recent purchased was made on the platform?\n",
    "spark.sql(\"set spark.sql.legacy.timeParserPolicy=LEGACY\") # 12/1/2010 8:26\n",
    "df = df.withColumn('date',to_timestamp(\"InvoiceDate\", 'MM/dd/yyyy HH:mm'))\n",
    "df.select(max(\"date\")).show()"
   ]
  },
  {
   "cell_type": "code",
   "execution_count": 23,
   "id": "39b39509-6f5c-479b-8f2a-f8253bfe555d",
   "metadata": {},
   "outputs": [
    {
     "name": "stdout",
     "output_type": "stream",
     "text": [
      "+-------------------+\n",
      "|          min(date)|\n",
      "+-------------------+\n",
      "|2010-12-01 08:26:00|\n",
      "+-------------------+\n",
      "\n"
     ]
    }
   ],
   "source": [
    "# Find the earliest purchased done by the customer?\n",
    "df.select(min(\"date\")).show()"
   ]
  },
  {
   "cell_type": "markdown",
   "id": "54ade575-8036-4220-bcfe-885e47b491e7",
   "metadata": {},
   "source": [
    "## Data Pre-Processing"
   ]
  },
  {
   "cell_type": "code",
   "execution_count": 24,
   "id": "321e1d96-eed3-4003-b98d-2dd7d6627a16",
   "metadata": {},
   "outputs": [
    {
     "name": "stdout",
     "output_type": "stream",
     "text": [
      "+---------+---------+-----------------------------------+--------+--------------+---------+----------+--------------+-------------------+-------------------+\n",
      "|InvoiceNo|StockCode|Description                        |Quantity|InvoiceDate   |UnitPrice|CustomerID|Country       |from_date          |date               |\n",
      "+---------+---------+-----------------------------------+--------+--------------+---------+----------+--------------+-------------------+-------------------+\n",
      "|536365   |85123A   |WHITE HANGING HEART T-LIGHT HOLDER |6       |12/1/2010 8:26|2.55     |17850     |United Kingdom|2010-12-01 08:26:00|2010-12-01 08:26:00|\n",
      "|536365   |71053    |WHITE METAL LANTERN                |6       |12/1/2010 8:26|3.39     |17850     |United Kingdom|2010-12-01 08:26:00|2010-12-01 08:26:00|\n",
      "|536365   |84406B   |CREAM CUPID HEARTS COAT HANGER     |8       |12/1/2010 8:26|2.75     |17850     |United Kingdom|2010-12-01 08:26:00|2010-12-01 08:26:00|\n",
      "|536365   |84029G   |KNITTED UNION FLAG HOT WATER BOTTLE|6       |12/1/2010 8:26|3.39     |17850     |United Kingdom|2010-12-01 08:26:00|2010-12-01 08:26:00|\n",
      "|536365   |84029E   |RED WOOLLY HOTTIE WHITE HEART.     |6       |12/1/2010 8:26|3.39     |17850     |United Kingdom|2010-12-01 08:26:00|2010-12-01 08:26:00|\n",
      "+---------+---------+-----------------------------------+--------+--------------+---------+----------+--------------+-------------------+-------------------+\n",
      "only showing top 5 rows\n",
      "\n"
     ]
    }
   ],
   "source": [
    "df.show(5,0)"
   ]
  },
  {
   "cell_type": "code",
   "execution_count": 25,
   "id": "7560e874-7139-46b0-ba87-2cf418225115",
   "metadata": {},
   "outputs": [],
   "source": [
    "# We have two factors needs to be take in consideration:\n",
    "# 1- Recency: The most recent purchases done.\n",
    "# ---> Assign a recency score to each customer\n",
    "# 2- "
   ]
  },
  {
   "cell_type": "code",
   "execution_count": 30,
   "id": "f0588a07-66cc-4302-928f-67f3ff02ad12",
   "metadata": {},
   "outputs": [
    {
     "name": "stdout",
     "output_type": "stream",
     "text": [
      "+---------+---------+-----------------------------------+--------+--------------+---------+----------+--------------+-------------------+-------------------+-------+\n",
      "|InvoiceNo|StockCode|Description                        |Quantity|InvoiceDate   |UnitPrice|CustomerID|Country       |from_date          |date               |recency|\n",
      "+---------+---------+-----------------------------------+--------+--------------+---------+----------+--------------+-------------------+-------------------+-------+\n",
      "|536365   |85123A   |WHITE HANGING HEART T-LIGHT HOLDER |6       |12/1/2010 8:26|2.55     |17850     |United Kingdom|2010-12-01 08:26:00|2010-12-01 08:26:00|0      |\n",
      "|536365   |71053    |WHITE METAL LANTERN                |6       |12/1/2010 8:26|3.39     |17850     |United Kingdom|2010-12-01 08:26:00|2010-12-01 08:26:00|0      |\n",
      "|536365   |84406B   |CREAM CUPID HEARTS COAT HANGER     |8       |12/1/2010 8:26|2.75     |17850     |United Kingdom|2010-12-01 08:26:00|2010-12-01 08:26:00|0      |\n",
      "|536365   |84029G   |KNITTED UNION FLAG HOT WATER BOTTLE|6       |12/1/2010 8:26|3.39     |17850     |United Kingdom|2010-12-01 08:26:00|2010-12-01 08:26:00|0      |\n",
      "|536365   |84029E   |RED WOOLLY HOTTIE WHITE HEART.     |6       |12/1/2010 8:26|3.39     |17850     |United Kingdom|2010-12-01 08:26:00|2010-12-01 08:26:00|0      |\n",
      "+---------+---------+-----------------------------------+--------+--------------+---------+----------+--------------+-------------------+-------------------+-------+\n",
      "only showing top 5 rows\n",
      "\n"
     ]
    }
   ],
   "source": [
    "df = df.withColumn(\"from_date\", lit(\"12/1/2010 08:26\"))\n",
    "df = df.withColumn(\"from_date\", to_timestamp(\"from_date\", \"MM/dd/yyyy HH:mm\"))\n",
    "df2 = df.withColumn(\"from_date\", to_timestamp(col(\"from_date\"))).withColumn(\"recency\", col(\"date\").cast(\"long\") - col(\"from_date\").cast(\"long\"))\n",
    "\n",
    "df2.show(5, 0)"
   ]
  },
  {
   "cell_type": "markdown",
   "id": "643919d0-1e69-4310-b1f3-dc5d34de4e32",
   "metadata": {},
   "source": [
    "### 1- Select the most recent purchase"
   ]
  },
  {
   "cell_type": "code",
   "execution_count": 31,
   "id": "56c6acd7-9829-4afc-82bf-431d2f9b057e",
   "metadata": {},
   "outputs": [
    {
     "name": "stdout",
     "output_type": "stream",
     "text": [
      "+-------+---------+---------+-----------+--------+-----------+---------+----------+-------+---------+----+\n",
      "|recency|InvoiceNo|StockCode|Description|Quantity|InvoiceDate|UnitPrice|CustomerID|Country|from_date|date|\n",
      "+-------+---------+---------+-----------+--------+-----------+---------+----------+-------+---------+----+\n",
      "|    522|      536|      824|        WOO|       3|        12/|      6.4|       180|    Uni|      201| 201|\n",
      "|    522|      536|      847|        COL|      48|        12/|      0.6|       180|    Uni|      201| 201|\n",
      "|    522|      536|      224|        HAN|      12|        12/|      1.6|       180|    Uni|      201| 201|\n",
      "|    522|      536|      213|        HAN|       6|        12/|      2.9|       180|    Uni|      201| 201|\n",
      "|    522|      536|      224|        NAT|      12|        12/|      2.9|       180|    Uni|      201| 201|\n",
      "+-------+---------+---------+-----------+--------+-----------+---------+----------+-------+---------+----+\n",
      "only showing top 5 rows\n",
      "\n"
     ]
    }
   ],
   "source": [
    "df2 = df2.join(df2.groupBy(\"CustomerID\").agg(max(\"recency\").alias(\"recency\")), on=\"recency\", how=\"leftsemi\")\n",
    "df2.show(5, 3)"
   ]
  },
  {
   "cell_type": "code",
   "execution_count": 32,
   "id": "02646bfc-9be2-483a-9eec-86be9739e306",
   "metadata": {},
   "outputs": [
    {
     "name": "stdout",
     "output_type": "stream",
     "text": [
      "root\n",
      " |-- recency: long (nullable = true)\n",
      " |-- InvoiceNo: string (nullable = true)\n",
      " |-- StockCode: string (nullable = true)\n",
      " |-- Description: string (nullable = true)\n",
      " |-- Quantity: integer (nullable = true)\n",
      " |-- InvoiceDate: string (nullable = true)\n",
      " |-- UnitPrice: double (nullable = true)\n",
      " |-- CustomerID: integer (nullable = true)\n",
      " |-- Country: string (nullable = true)\n",
      " |-- from_date: timestamp (nullable = true)\n",
      " |-- date: timestamp (nullable = true)\n",
      "\n"
     ]
    }
   ],
   "source": [
    "df2.printSchema()"
   ]
  },
  {
   "cell_type": "markdown",
   "id": "7af19471-e6c7-4c73-9349-c84d124a5632",
   "metadata": {},
   "source": [
    "### 2- Calculate the frequency"
   ]
  },
  {
   "cell_type": "code",
   "execution_count": 37,
   "id": "e3e4b4dd-29c6-4ba8-88a2-449306ff3f65",
   "metadata": {},
   "outputs": [
    {
     "name": "stdout",
     "output_type": "stream",
     "text": [
      "+----------+---------+\n",
      "|CustomerID|frequency|\n",
      "+----------+---------+\n",
      "|15447     |9        |\n",
      "|15100     |1        |\n",
      "|13898     |12       |\n",
      "|17950     |33       |\n",
      "|16565     |3        |\n",
      "+----------+---------+\n",
      "only showing top 5 rows\n",
      "\n"
     ]
    }
   ],
   "source": [
    "def_freq = df2.groupBy(\"CustomerID\").agg(count(\"InvoiceDate\").alias(\"frequency\"))\n",
    "def_freq.show(5,0)"
   ]
  },
  {
   "cell_type": "code",
   "execution_count": 40,
   "id": "2bb5f584-4fd2-4650-ba5a-638c91a5d8de",
   "metadata": {},
   "outputs": [
    {
     "name": "stdout",
     "output_type": "stream",
     "text": [
      "+----------+-------+---------+---------+-----------------------------------+--------+--------------+---------+--------------+-------------------+-------------------+---------+\n",
      "|CustomerID|recency|InvoiceNo|StockCode|Description                        |Quantity|InvoiceDate   |UnitPrice|Country       |from_date          |date               |frequency|\n",
      "+----------+-------+---------+---------+-----------------------------------+--------+--------------+---------+--------------+-------------------+-------------------+---------+\n",
      "|18074     |5220   |536384   |82484    |WOOD BLACK BOARD ANT WHITE FINISH  |3       |12/1/2010 9:53|6.45     |United Kingdom|2010-12-01 08:26:00|2010-12-01 09:53:00|13       |\n",
      "|18074     |5220   |536384   |84755    |COLOUR GLASS T-LIGHT HOLDER HANGING|48      |12/1/2010 9:53|0.65     |United Kingdom|2010-12-01 08:26:00|2010-12-01 09:53:00|13       |\n",
      "|18074     |5220   |536384   |22464    |HANGING METAL HEART LANTERN        |12      |12/1/2010 9:53|1.65     |United Kingdom|2010-12-01 08:26:00|2010-12-01 09:53:00|13       |\n",
      "|18074     |5220   |536384   |21324    |HANGING MEDINA LANTERN SMALL       |6       |12/1/2010 9:53|2.95     |United Kingdom|2010-12-01 08:26:00|2010-12-01 09:53:00|13       |\n",
      "|18074     |5220   |536384   |22457    |NATURAL SLATE HEART CHALKBOARD     |12      |12/1/2010 9:53|2.95     |United Kingdom|2010-12-01 08:26:00|2010-12-01 09:53:00|13       |\n",
      "+----------+-------+---------+---------+-----------------------------------+--------+--------------+---------+--------------+-------------------+-------------------+---------+\n",
      "only showing top 5 rows\n",
      "\n"
     ]
    }
   ],
   "source": [
    "df3 = df2.join(def_freq, on=\"CustomerID\", how=\"inner\")\n",
    "df3.show(5,0)"
   ]
  },
  {
   "cell_type": "code",
   "execution_count": 41,
   "id": "e1c19de1-3eff-44df-9774-830f73ff1f63",
   "metadata": {},
   "outputs": [
    {
     "name": "stdout",
     "output_type": "stream",
     "text": [
      "root\n",
      " |-- CustomerID: integer (nullable = true)\n",
      " |-- recency: long (nullable = true)\n",
      " |-- InvoiceNo: string (nullable = true)\n",
      " |-- StockCode: string (nullable = true)\n",
      " |-- Description: string (nullable = true)\n",
      " |-- Quantity: integer (nullable = true)\n",
      " |-- InvoiceDate: string (nullable = true)\n",
      " |-- UnitPrice: double (nullable = true)\n",
      " |-- Country: string (nullable = true)\n",
      " |-- from_date: timestamp (nullable = true)\n",
      " |-- date: timestamp (nullable = true)\n",
      " |-- frequency: long (nullable = false)\n",
      "\n"
     ]
    }
   ],
   "source": [
    "df3.printSchema()"
   ]
  },
  {
   "cell_type": "markdown",
   "id": "3bae5a97-58f2-42d5-b7d2-db635da6eb7a",
   "metadata": {},
   "source": [
    "### 3- Monetary Value"
   ]
  },
  {
   "cell_type": "code",
   "execution_count": 45,
   "id": "b0b9fb0a-d261-4191-866f-a1d53894303b",
   "metadata": {},
   "outputs": [],
   "source": [
    "## Calculate the total amount spent per customer\n",
    "## Two Steps:\n",
    "# 1- found the total amount spent in each purchase\n"
   ]
  },
  {
   "cell_type": "code",
   "execution_count": 44,
   "id": "f2e48fca-422f-416d-8080-8de75b257525",
   "metadata": {},
   "outputs": [
    {
     "name": "stdout",
     "output_type": "stream",
     "text": [
      "+----------+-------+---------+---------+-----------------------------------+--------+--------------+---------+--------------+-------------------+-------------------+---------+------------------+\n",
      "|CustomerID|recency|InvoiceNo|StockCode|Description                        |Quantity|InvoiceDate   |UnitPrice|Country       |from_date          |date               |frequency|TotalAmount       |\n",
      "+----------+-------+---------+---------+-----------------------------------+--------+--------------+---------+--------------+-------------------+-------------------+---------+------------------+\n",
      "|18074     |5220   |536384   |82484    |WOOD BLACK BOARD ANT WHITE FINISH  |3       |12/1/2010 9:53|6.45     |United Kingdom|2010-12-01 08:26:00|2010-12-01 09:53:00|13       |19.35             |\n",
      "|18074     |5220   |536384   |84755    |COLOUR GLASS T-LIGHT HOLDER HANGING|48      |12/1/2010 9:53|0.65     |United Kingdom|2010-12-01 08:26:00|2010-12-01 09:53:00|13       |31.200000000000003|\n",
      "|18074     |5220   |536384   |22464    |HANGING METAL HEART LANTERN        |12      |12/1/2010 9:53|1.65     |United Kingdom|2010-12-01 08:26:00|2010-12-01 09:53:00|13       |19.799999999999997|\n",
      "|18074     |5220   |536384   |21324    |HANGING MEDINA LANTERN SMALL       |6       |12/1/2010 9:53|2.95     |United Kingdom|2010-12-01 08:26:00|2010-12-01 09:53:00|13       |17.700000000000003|\n",
      "|18074     |5220   |536384   |22457    |NATURAL SLATE HEART CHALKBOARD     |12      |12/1/2010 9:53|2.95     |United Kingdom|2010-12-01 08:26:00|2010-12-01 09:53:00|13       |35.400000000000006|\n",
      "+----------+-------+---------+---------+-----------------------------------+--------+--------------+---------+--------------+-------------------+-------------------+---------+------------------+\n",
      "only showing top 5 rows\n",
      "\n"
     ]
    }
   ],
   "source": [
    "m_val = df3.withColumn(\"TotalAmount\", col(\"Quantity\") * col(\"UnitPrice\"))\n",
    "m_val.show(5, 0)"
   ]
  },
  {
   "cell_type": "code",
   "execution_count": 46,
   "id": "d7fdefee-174b-4e5b-99b6-f2306ba54fec",
   "metadata": {},
   "outputs": [
    {
     "name": "stdout",
     "output_type": "stream",
     "text": [
      "+----------+-------------------+\n",
      "|CustomerID|monetry_value      |\n",
      "+----------+-------------------+\n",
      "|15447     |155.17             |\n",
      "|15100     |-32.849999999999994|\n",
      "|13898     |155.93             |\n",
      "|17950     |208.95             |\n",
      "|16565     |173.7              |\n",
      "+----------+-------------------+\n",
      "only showing top 5 rows\n",
      "\n"
     ]
    }
   ],
   "source": [
    "# 2- find the total amount spent by each customer\n",
    "m_val = m_val.groupBy(\"CustomerID\").agg(sum(\"TotalAmount\").alias(\"monetry_value\"))\n",
    "m_val.show(5,0)"
   ]
  },
  {
   "cell_type": "code",
   "execution_count": 62,
   "id": "851eafcf-f73b-4e77-a1e6-af26ece2097a",
   "metadata": {},
   "outputs": [
    {
     "name": "stdout",
     "output_type": "stream",
     "text": [
      "+----------+-------------+-------+---------+---------+-----------------------------------+--------+--------------+---------+--------------+-------------------+-------------------+---------+\n",
      "|CustomerID|monetry_value|recency|InvoiceNo|StockCode|Description                        |Quantity|InvoiceDate   |UnitPrice|Country       |from_date          |date               |frequency|\n",
      "+----------+-------------+-------+---------+---------+-----------------------------------+--------+--------------+---------+--------------+-------------------+-------------------+---------+\n",
      "|18074     |489.6        |5220   |536384   |82484    |WOOD BLACK BOARD ANT WHITE FINISH  |3       |12/1/2010 9:53|6.45     |United Kingdom|2010-12-01 08:26:00|2010-12-01 09:53:00|13       |\n",
      "|18074     |489.6        |5220   |536384   |84755    |COLOUR GLASS T-LIGHT HOLDER HANGING|48      |12/1/2010 9:53|0.65     |United Kingdom|2010-12-01 08:26:00|2010-12-01 09:53:00|13       |\n",
      "|18074     |489.6        |5220   |536384   |22464    |HANGING METAL HEART LANTERN        |12      |12/1/2010 9:53|1.65     |United Kingdom|2010-12-01 08:26:00|2010-12-01 09:53:00|13       |\n",
      "|18074     |489.6        |5220   |536384   |21324    |HANGING MEDINA LANTERN SMALL       |6       |12/1/2010 9:53|2.95     |United Kingdom|2010-12-01 08:26:00|2010-12-01 09:53:00|13       |\n",
      "|18074     |489.6        |5220   |536384   |22457    |NATURAL SLATE HEART CHALKBOARD     |12      |12/1/2010 9:53|2.95     |United Kingdom|2010-12-01 08:26:00|2010-12-01 09:53:00|13       |\n",
      "+----------+-------------+-------+---------+---------+-----------------------------------+--------+--------------+---------+--------------+-------------------+-------------------+---------+\n",
      "only showing top 5 rows\n",
      "\n"
     ]
    }
   ],
   "source": [
    "# Merge the tow dataframes\n",
    "final_df = m_val.join(df3, on=\"CustomerID\", how=\"inner\")\n",
    "final_df.show(5,0)"
   ]
  },
  {
   "cell_type": "code",
   "execution_count": 63,
   "id": "6844d226-a69f-4bc7-93f8-22e58972eba3",
   "metadata": {},
   "outputs": [],
   "source": [
    "# Select the necessery columns to build the column"
   ]
  },
  {
   "cell_type": "code",
   "execution_count": 64,
   "id": "3d452880-5ebd-496c-ad9b-f17e76c13a6a",
   "metadata": {},
   "outputs": [],
   "source": [
    "final_df = final_df.select(['recency','frequency','monetry_value','CustomerID']).distinct()"
   ]
  },
  {
   "cell_type": "code",
   "execution_count": 65,
   "id": "6e8761f8-2381-41ed-8e8c-5e593c274a0f",
   "metadata": {},
   "outputs": [],
   "source": [
    "# Standarization the dataframe\n",
    "from pyspark.ml.feature import VectorAssembler\n",
    "from pyspark.ml.feature import StandardScaler"
   ]
  },
  {
   "cell_type": "code",
   "execution_count": 68,
   "id": "1c18be1a-6b78-4c96-b76b-3f553c5411c9",
   "metadata": {},
   "outputs": [
    {
     "name": "stdout",
     "output_type": "stream",
     "text": [
      "+-------+---------+-------------------+----------+--------------------+\n",
      "|recency|frequency|      monetry_value|CustomerID|            features|\n",
      "+-------+---------+-------------------+----------+--------------------+\n",
      "|3726000|        9|             155.17|     15447|[3726000.0,9.0,15...|\n",
      "|3746580|        1|-32.849999999999994|     15100|[3746580.0,1.0,-3...|\n",
      "|4154520|       12|             155.93|     13898|[4154520.0,12.0,1...|\n",
      "| 716280|       33|             208.95|     17950|[716280.0,33.0,20...|\n",
      "| 802500|        3|              173.7|     16565|[802500.0,3.0,173.7]|\n",
      "|  97020|        1|              106.2|     15070| [97020.0,1.0,106.2]|\n",
      "| 105180|       13| 248.10000000000002|     16510|[105180.0,13.0,24...|\n",
      "| 621720|        5|             403.25|     15221|[621720.0,5.0,403...|\n",
      "|1222740|        9| 422.70000000000005|     17525|[1222740.0,9.0,42...|\n",
      "| 184560|        3|              39.75|     14589|[184560.0,3.0,39.75]|\n",
      "|  25740|       67| 357.94999999999993|     16274|[25740.0,67.0,357...|\n",
      "| 544920|       13|             289.35|     16125|[544920.0,13.0,28...|\n",
      "|3739860|       20| 386.04999999999995|     18085|[3739860.0,20.0,3...|\n",
      "| 784500|       65|            1441.73|     16265|[784500.0,65.0,14...|\n",
      "| 959460|       70| 147.09000000000003|     15503|[959460.0,70.0,14...|\n",
      "|4416780|       30| 125.13000000000004|     17890|[4416780.0,30.0,1...|\n",
      "| 100200|       21| 127.08000000000003|     15923|[100200.0,21.0,12...|\n",
      "|  25740|       19|             538.81|     14496|[25740.0,19.0,538...|\n",
      "| 199140|       24| 427.79999999999995|     12725|[199140.0,24.0,42...|\n",
      "| 446700|        1|  76.32000000000001|     18113|[446700.0,1.0,76....|\n",
      "+-------+---------+-------------------+----------+--------------------+\n",
      "only showing top 20 rows\n",
      "\n"
     ]
    }
   ],
   "source": [
    "assembler = VectorAssembler(inputCols=[\"recency\",\"frequency\",\"monetry_value\"], outputCol=\"features\")\n",
    "assembled_data = assembler.transform(final_df)\n",
    "assembled_data.show()"
   ]
  },
  {
   "cell_type": "code",
   "execution_count": 69,
   "id": "377eaa0a-da46-4a41-b4a6-b782146cbabe",
   "metadata": {},
   "outputs": [
    {
     "name": "stdout",
     "output_type": "stream",
     "text": [
      "+-------+---------+-------------------+----------+--------------------+--------------------+\n",
      "|recency|frequency|      monetry_value|CustomerID|            features|         standarized|\n",
      "+-------+---------+-------------------+----------+--------------------+--------------------+\n",
      "|3726000|        9|             155.17|     15447|[3726000.0,9.0,15...|[0.42717941487700...|\n",
      "|3746580|        1|-32.849999999999994|     15100|[3746580.0,1.0,-3...|[0.42953887605740...|\n",
      "|4154520|       12|             155.93|     13898|[4154520.0,12.0,1...|[0.47630848703564...|\n",
      "| 716280|       33|             208.95|     17950|[716280.0,33.0,20...|[0.08212025531081...|\n",
      "| 802500|        3|              173.7|     16565|[802500.0,3.0,173.7]|[0.09200522824444...|\n",
      "|  97020|        1|              106.2|     15070| [97020.0,1.0,106.2]|[0.01112317413616...|\n",
      "| 105180|       13| 248.10000000000002|     16510|[105180.0,13.0,24...|[0.01205870393364...|\n",
      "| 621720|        5|             403.25|     15221|[621720.0,5.0,403...|[0.07127911589300...|\n",
      "|1222740|        9| 422.70000000000005|     17525|[1222740.0,9.0,42...|[0.14018501281446...|\n",
      "| 184560|        3|              39.75|     14589|[184560.0,3.0,39.75]|[0.02115948277232...|\n",
      "|  25740|       67| 357.94999999999993|     16274|[25740.0,67.0,357...|[0.00295104619939...|\n",
      "| 544920|       13|             289.35|     16125|[544920.0,13.0,28...|[0.06247412956381...|\n",
      "|3739860|       20| 386.04999999999995|     18085|[3739860.0,20.0,3...|[0.42876843975360...|\n",
      "| 784500|       65|            1441.73|     16265|[784500.0,65.0,14...|[0.08994155957354...|\n",
      "| 959460|       70| 147.09000000000003|     15503|[959460.0,70.0,14...|[0.11000041905472...|\n",
      "|4416780|       30| 125.13000000000004|     17890|[4416780.0,30.0,1...|[0.50637613957071...|\n",
      "| 100200|       21| 127.08000000000003|     15923|[100200.0,21.0,12...|[0.01148775560136...|\n",
      "|  25740|       19|             538.81|     14496|[25740.0,19.0,538...|[0.00295104619939...|\n",
      "| 199140|       24| 427.79999999999995|     12725|[199140.0,24.0,42...|[0.02283105439576...|\n",
      "| 446700|        1|  76.32000000000001|     18113|[446700.0,1.0,76....|[0.05121337751625...|\n",
      "+-------+---------+-------------------+----------+--------------------+--------------------+\n",
      "only showing top 20 rows\n",
      "\n"
     ]
    }
   ],
   "source": [
    "scale = StandardScaler(inputCol='features', outputCol=\"standarized\")\n",
    "data_scale = scale.fit(assembled_data)\n",
    "data_scale_output = data_scale.transform(assembled_data)\n",
    "data_scale_output.show()"
   ]
  },
  {
   "cell_type": "code",
   "execution_count": null,
   "id": "ab47522b-862e-4307-a539-2763d844ab31",
   "metadata": {},
   "outputs": [],
   "source": [
    "### These data presented will be fitted to the clustering algorithm"
   ]
  },
  {
   "cell_type": "code",
   "execution_count": 70,
   "id": "d37ff422-aae8-4c83-9c99-38d2f27f1ba7",
   "metadata": {},
   "outputs": [
    {
     "name": "stdout",
     "output_type": "stream",
     "text": [
      "+---------------------------------------------------------------+\n",
      "|standarized                                                    |\n",
      "+---------------------------------------------------------------+\n",
      "|[0.42717941487700695,0.23237755599332738,0.0555092310302321]   |\n",
      "|[0.4295388760574065,0.025819728443703043,-0.011751487010009179]|\n",
      "+---------------------------------------------------------------+\n",
      "only showing top 2 rows\n",
      "\n"
     ]
    }
   ],
   "source": [
    "data_scale_output.select(\"standarized\").show(2, truncate=False)"
   ]
  },
  {
   "cell_type": "markdown",
   "id": "6266e768-7e48-4312-8943-909809353718",
   "metadata": {},
   "source": [
    "### Building the ML Algorithm\n"
   ]
  },
  {
   "cell_type": "code",
   "execution_count": 73,
   "id": "250d6432-525d-413c-a265-4617bf42457b",
   "metadata": {},
   "outputs": [
    {
     "data": {
      "text/plain": [
       "'The most important thing in this classification algorithm\\nis to determin how many clusters we need to use, and for this\\nwe can use the \"Elbow-Method'"
      ]
     },
     "execution_count": 73,
     "metadata": {},
     "output_type": "execute_result"
    }
   ],
   "source": [
    "\"\"\"The most important thing in this classification algorithm\n",
    "is to determin how many clusters we need to use, and for this\n",
    "we can use the \"Elbow-Method\"\"\""
   ]
  },
  {
   "cell_type": "code",
   "execution_count": 74,
   "id": "4725f246-1b38-4df6-b7d5-4a595f71f8d0",
   "metadata": {},
   "outputs": [],
   "source": [
    "from pyspark.ml.clustering import KMeans\n",
    "from pyspark.ml.evaluation import ClusteringEvaluator\n",
    "import numpy as np"
   ]
  },
  {
   "cell_type": "code",
   "execution_count": 77,
   "id": "f57a8ad4-b8ba-4e78-84cc-d9a3d1474244",
   "metadata": {},
   "outputs": [],
   "source": [
    "cost = np.zeros(10)\n",
    "evaluator = ClusteringEvaluator(predictionCol='prediction', \n",
    "                               featuresCol='standarized',\n",
    "                                metricName=\"silhouette\",\n",
    "                                distanceMeasure=\"squareEucliden\"\n",
    "                               )"
   ]
  },
  {
   "cell_type": "code",
   "execution_count": 78,
   "id": "0b928acd-c932-43de-96ca-4039b50b06f1",
   "metadata": {},
   "outputs": [],
   "source": [
    "for i in range(2,10):\n",
    "    KMeans_algo = KMeans(featuresCol='standarized', k=i)\n",
    "    KMeans_fit = KMeans_algo.fit(data_scale_output)\n",
    "    output= KMeans_fit.transform(data_scale_output)\n",
    "    cost[i] = KMeans_fit.summary.trainingCost"
   ]
  },
  {
   "cell_type": "code",
   "execution_count": 79,
   "id": "8853a282-b843-418d-a05d-17f4f844df15",
   "metadata": {},
   "outputs": [
    {
     "data": {
      "text/plain": [
       "array([    0.        ,     0.        , 11759.08202463,  6953.41931486,\n",
       "        4290.92711421,  3278.37082879,  2773.67137352,  2349.48960819,\n",
       "        2231.05705068,  2084.5157455 ])"
      ]
     },
     "execution_count": 79,
     "metadata": {},
     "output_type": "execute_result"
    }
   ],
   "source": [
    "cost"
   ]
  },
  {
   "cell_type": "code",
   "execution_count": 80,
   "id": "2748b4c5-ad3c-4f3d-99c5-8cd6a9b084a8",
   "metadata": {},
   "outputs": [
    {
     "data": {
      "image/png": "[encoded data removed]",
      "text/plain": [
       "<Figure size 640x480 with 1 Axes>"
      ]
     },
     "metadata": {},
     "output_type": "display_data"
    }
   ],
   "source": [
    "import pandas as pd\n",
    "import pylab as pl\n",
    "df_cost = pd.DataFrame(cost[2:])\n",
    "df_cost.columns = [\"cost\"]\n",
    "new_col = range(2,10)\n",
    "df_cost.insert(0, 'cluster', new_col)\n",
    "pl.plot(df_cost.cluster, df_cost.cost)\n",
    "pl.xlabel('Number of Clusters')\n",
    "pl.ylabel('Score')\n",
    "pl.title('Elbow Curve')\n",
    "pl.show()"
   ]
  },
  {
   "cell_type": "markdown",
   "id": "747a26a9-0060-4be3-bc02-b8ba4b59b394",
   "metadata": {},
   "source": [
    "**Building the K-Means Clustering Model\n",
    "From the plot above, we can see that there is an inflection point that looks like an elbow at four. Due to this, we will proceed to build the K-Means algorithm with four clusters:**"
   ]
  },
  {
   "cell_type": "code",
   "execution_count": 82,
   "id": "3a117782-8595-48d0-bb95-f9a67cafa16f",
   "metadata": {},
   "outputs": [],
   "source": [
    "KMeans_algo=KMeans(featuresCol='standarized', k=4)\n",
    "KMeans_fit=KMeans_algo.fit(data_scale_output)"
   ]
  },
  {
   "cell_type": "code",
   "execution_count": 83,
   "id": "9369c86e-7122-4fad-bce8-7eb624847086",
   "metadata": {},
   "outputs": [
    {
     "name": "stdout",
     "output_type": "stream",
     "text": [
      "+-------+---------+-------------------+----------+-----------------------------------+---------------------------------------------------------------+----------+\n",
      "|recency|frequency|monetry_value      |CustomerID|features                           |standarized                                                    |prediction|\n",
      "+-------+---------+-------------------+----------+-----------------------------------+---------------------------------------------------------------+----------+\n",
      "|3726000|9        |155.17             |15447     |[3726000.0,9.0,155.17]             |[0.42717941487700695,0.23237755599332738,0.0555092310302321]   |2         |\n",
      "|3746580|1        |-32.849999999999994|15100     |[3746580.0,1.0,-32.849999999999994]|[0.4295388760574065,0.025819728443703043,-0.011751487010009179]|2         |\n",
      "|4154520|12       |155.93             |13898     |[4154520.0,12.0,155.93]            |[0.4763084870356476,0.3098367413244365,0.0557811071376174]     |2         |\n",
      "|716280 |33       |208.95             |17950     |[716280.0,33.0,208.95]             |[0.08212025531081657,0.8520510386422004,0.07474804294494423]   |2         |\n",
      "|802500 |3        |173.7              |16565     |[802500.0,3.0,173.7]               |[0.09200522824444393,0.07745918533110913,0.06213799980634991]  |2         |\n",
      "+-------+---------+-------------------+----------+-----------------------------------+---------------------------------------------------------------+----------+\n",
      "only showing top 5 rows\n",
      "\n"
     ]
    }
   ],
   "source": [
    "# Making Predictions\n",
    "# Let’s use the model we created to assign clusters to each customer in the dataset:\n",
    "\n",
    "preds=KMeans_fit.transform(data_scale_output)\n",
    "preds.show(5,0)"
   ]
  },
  {
   "cell_type": "code",
   "execution_count": 86,
   "id": "ec0e4d85-d5da-4c8a-abbe-2cc7727a93e4",
   "metadata": {},
   "outputs": [
    {
     "data": {
      "image/png": "[encoded data removed]",
      "text/plain": [
       "<Figure size 640x480 with 1 Axes>"
      ]
     },
     "metadata": {},
     "output_type": "display_data"
    },
    {
     "data": {
      "image/png": "[encoded data removed]",
      "text/plain": [
       "<Figure size 640x480 with 1 Axes>"
      ]
     },
     "metadata": {},
     "output_type": "display_data"
    },
    {
     "data": {
      "image/png": "[encoded data removed]",
      "text/plain": [
       "<Figure size 640x480 with 1 Axes>"
      ]
     },
     "metadata": {},
     "output_type": "display_data"
    }
   ],
   "source": [
    "# Cluster Analysis\n",
    "# The final step in this entire tutorial is to analyze the customer segments we just built.\n",
    "# Run the following lines of code to visualize the recency, frequency, and monetary value of each customerID in the dataframe:\n",
    "\n",
    "import matplotlib.pyplot as plt\n",
    "import seaborn as sns\n",
    "\n",
    "df_viz = preds.select('recency','frequency','monetry_value','prediction')\n",
    "df_viz = df_viz.toPandas()\n",
    "avg_df = df_viz.groupby(['prediction'], as_index=False).mean()\n",
    "\n",
    "list1 = ['recency','frequency','monetry_value']\n",
    "\n",
    "for i in list1:\n",
    "    sns.barplot(x='prediction',y=str(i),data=avg_df)\n",
    "    plt.show()"
   ]
  },
  {
   "cell_type": "markdown",
   "id": "d183164d-aa53-42d2-a711-7561582a5aee",
   "metadata": {},
   "source": [
    "**Cluster 0**: Customers in this segment display low recency, frequency, and monetary value.\n",
    "They rarely shop on the platform and are low potential customers who are likely to stop doing business with the ecommerce company.\n",
    "\n",
    "**Cluster 1**: Users in this cluster display high recency but haven’t been seen spending much on the platform. \n",
    "They also don’t visit the site often. This indicates that they might be newer customers who have just started doing business with the company.\n",
    "\n",
    "**Cluster 2**: Customers in this segment display medium recency and frequency and spend a lot of money on the platform.\n",
    "This indicates that they tend to buy high-value items or make bulk purchases.\n",
    "\n",
    "**Cluster 3**: The final segment comprises users who display high recency and make frequent purchases on the platform. \n",
    "However, they don’t spend much on the platform, which might mean that they tend to select cheaper items in each purchase."
   ]
  },
  {
   "cell_type": "code",
   "execution_count": null,
   "id": "a78ee9a9-a5e9-4b09-b96f-94c6b941ca98",
   "metadata": {},
   "outputs": [],
   "source": []
  }
 ],
 "metadata": {
  "kernelspec": {
   "display_name": "Python 3 (ipykernel)",
   "language": "python",
   "name": "python3"
  },
  "language_info": {
   "codemirror_mode": {
    "name": "ipython",
    "version": 3
   },
   "file_extension": ".py",
   "mimetype": "text/x-python",
   "name": "python",
   "nbconvert_exporter": "python",
   "pygments_lexer": "ipython3",
   "version": "3.10.11"
  }
 },
 "nbformat": 4,
 "nbformat_minor": 5
}
